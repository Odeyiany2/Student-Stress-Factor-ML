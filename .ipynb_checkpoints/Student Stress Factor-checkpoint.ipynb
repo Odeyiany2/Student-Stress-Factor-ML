{
 "cells": [
  {
   "cell_type": "markdown",
   "id": "0b51defe-f2c6-4c76-96de-3945e6ce9b15",
   "metadata": {},
   "source": [
    "# Importing the Necessary Libraries"
   ]
  },
  {
   "cell_type": "code",
   "execution_count": 1,
   "id": "60bc270a-e196-45c5-9514-ebd27f32ae1e",
   "metadata": {},
   "outputs": [],
   "source": [
    "import pandas as pd\n",
    "import seaborn as sns\n",
    "import matplotlib.pyplot as plt\n",
    "import numpy as np\n",
    "import plotly.express as px"
   ]
  },
  {
   "cell_type": "markdown",
   "id": "d9b4e36d-e293-488b-93cf-fc28502cca8e",
   "metadata": {},
   "source": [
    "# Data Exploration"
   ]
  },
  {
   "cell_type": "markdown",
   "id": "1ade1724-f915-405f-b21a-b06c6ef3ce8a",
   "metadata": {},
   "source": [
    "In this stage, we will be doing the basic data exploration which is to read the data file, get the shape, get the data information and other details about the dataset."
   ]
  },
  {
   "cell_type": "code",
   "execution_count": 2,
   "id": "da0a3e6d-3d3e-4195-ad19-2e6327f89991",
   "metadata": {},
   "outputs": [
    {
     "data": {
      "text/html": [
       "<div>\n",
       "<style scoped>\n",
       "    .dataframe tbody tr th:only-of-type {\n",
       "        vertical-align: middle;\n",
       "    }\n",
       "\n",
       "    .dataframe tbody tr th {\n",
       "        vertical-align: top;\n",
       "    }\n",
       "\n",
       "    .dataframe thead th {\n",
       "        text-align: right;\n",
       "    }\n",
       "</style>\n",
       "<table border=\"1\" class=\"dataframe\">\n",
       "  <thead>\n",
       "    <tr style=\"text-align: right;\">\n",
       "      <th></th>\n",
       "      <th>Timestamp</th>\n",
       "      <th>Kindly Rate your Sleep Quality 😴</th>\n",
       "      <th>How many times a week do you suffer headaches 🤕?</th>\n",
       "      <th>How would you rate you academic performance 👩‍🎓?</th>\n",
       "      <th>how would you rate your study load?</th>\n",
       "      <th>How many times a week you practice extracurricular activities 🎾?</th>\n",
       "      <th>How would you rate your stress levels?</th>\n",
       "    </tr>\n",
       "  </thead>\n",
       "  <tbody>\n",
       "    <tr>\n",
       "      <th>0</th>\n",
       "      <td>27/10/2023 21:54:15</td>\n",
       "      <td>3</td>\n",
       "      <td>1</td>\n",
       "      <td>3</td>\n",
       "      <td>4</td>\n",
       "      <td>2</td>\n",
       "      <td>3</td>\n",
       "    </tr>\n",
       "    <tr>\n",
       "      <th>1</th>\n",
       "      <td>28/10/2023 12:24:40</td>\n",
       "      <td>4</td>\n",
       "      <td>1</td>\n",
       "      <td>2</td>\n",
       "      <td>3</td>\n",
       "      <td>3</td>\n",
       "      <td>2</td>\n",
       "    </tr>\n",
       "    <tr>\n",
       "      <th>2</th>\n",
       "      <td>28/10/2023 12:24:51</td>\n",
       "      <td>2</td>\n",
       "      <td>1</td>\n",
       "      <td>2</td>\n",
       "      <td>1</td>\n",
       "      <td>4</td>\n",
       "      <td>4</td>\n",
       "    </tr>\n",
       "    <tr>\n",
       "      <th>3</th>\n",
       "      <td>28/10/2023 12:26:11</td>\n",
       "      <td>3</td>\n",
       "      <td>2</td>\n",
       "      <td>3</td>\n",
       "      <td>2</td>\n",
       "      <td>3</td>\n",
       "      <td>3</td>\n",
       "    </tr>\n",
       "    <tr>\n",
       "      <th>4</th>\n",
       "      <td>28/10/2023 12:26:45</td>\n",
       "      <td>2</td>\n",
       "      <td>3</td>\n",
       "      <td>1</td>\n",
       "      <td>5</td>\n",
       "      <td>5</td>\n",
       "      <td>3</td>\n",
       "    </tr>\n",
       "  </tbody>\n",
       "</table>\n",
       "</div>"
      ],
      "text/plain": [
       "             Timestamp  Kindly Rate your Sleep Quality 😴  \\\n",
       "0  27/10/2023 21:54:15                                 3   \n",
       "1  28/10/2023 12:24:40                                 4   \n",
       "2  28/10/2023 12:24:51                                 2   \n",
       "3  28/10/2023 12:26:11                                 3   \n",
       "4  28/10/2023 12:26:45                                 2   \n",
       "\n",
       "   How many times a week do you suffer headaches 🤕?  \\\n",
       "0                                                 1   \n",
       "1                                                 1   \n",
       "2                                                 1   \n",
       "3                                                 2   \n",
       "4                                                 3   \n",
       "\n",
       "   How would you rate you academic performance 👩‍🎓?  \\\n",
       "0                                                 3   \n",
       "1                                                 2   \n",
       "2                                                 2   \n",
       "3                                                 3   \n",
       "4                                                 1   \n",
       "\n",
       "   how would you rate your study load?  \\\n",
       "0                                    4   \n",
       "1                                    3   \n",
       "2                                    1   \n",
       "3                                    2   \n",
       "4                                    5   \n",
       "\n",
       "   How many times a week you practice extracurricular activities 🎾?  \\\n",
       "0                                                  2                  \n",
       "1                                                  3                  \n",
       "2                                                  4                  \n",
       "3                                                  3                  \n",
       "4                                                  5                  \n",
       "\n",
       "   How would you rate your stress levels?  \n",
       "0                                       3  \n",
       "1                                       2  \n",
       "2                                       4  \n",
       "3                                       3  \n",
       "4                                       3  "
      ]
     },
     "execution_count": 2,
     "metadata": {},
     "output_type": "execute_result"
    }
   ],
   "source": [
    "df = pd.read_csv(\"Student Stress Factors.csv\")\n",
    "df.head()"
   ]
  },
  {
   "cell_type": "code",
   "execution_count": 4,
   "id": "c0ba4f29-4d0d-40de-a43e-f939dd6e17b2",
   "metadata": {},
   "outputs": [
    {
     "data": {
      "text/plain": [
       "(53, 7)"
      ]
     },
     "execution_count": 4,
     "metadata": {},
     "output_type": "execute_result"
    }
   ],
   "source": [
    "df.shape"
   ]
  },
  {
   "cell_type": "code",
   "execution_count": 5,
   "id": "f0c5d4c1-f37a-478a-bf46-222a4f82b03a",
   "metadata": {},
   "outputs": [
    {
     "name": "stdout",
     "output_type": "stream",
     "text": [
      "<class 'pandas.core.frame.DataFrame'>\n",
      "RangeIndex: 53 entries, 0 to 52\n",
      "Data columns (total 7 columns):\n",
      " #   Column                                                            Non-Null Count  Dtype \n",
      "---  ------                                                            --------------  ----- \n",
      " 0   Timestamp                                                         53 non-null     object\n",
      " 1   Kindly Rate your Sleep Quality 😴                                  53 non-null     int64 \n",
      " 2   How many times a week do you suffer headaches 🤕?                  53 non-null     int64 \n",
      " 3   How would you rate you academic performance 👩‍🎓?                  53 non-null     int64 \n",
      " 4   how would you rate your study load?                               53 non-null     int64 \n",
      " 5   How many times a week you practice extracurricular activities 🎾?  53 non-null     int64 \n",
      " 6   How would you rate your stress levels?                            53 non-null     int64 \n",
      "dtypes: int64(6), object(1)\n",
      "memory usage: 3.0+ KB\n"
     ]
    }
   ],
   "source": [
    "df.info()"
   ]
  },
  {
   "cell_type": "code",
   "execution_count": 3,
   "id": "65a3f967-aefa-46eb-a137-58ba42df53f4",
   "metadata": {},
   "outputs": [
    {
     "data": {
      "text/plain": [
       "Index(['Timestamp', 'Kindly Rate your Sleep Quality 😴',\n",
       "       'How many times a week do you suffer headaches 🤕?',\n",
       "       'How would you rate you academic performance 👩‍🎓?',\n",
       "       'how would you rate your study load?',\n",
       "       'How many times a week you practice extracurricular activities 🎾?',\n",
       "       'How would you rate your stress levels?'],\n",
       "      dtype='object')"
      ]
     },
     "execution_count": 3,
     "metadata": {},
     "output_type": "execute_result"
    }
   ],
   "source": [
    "df.columns"
   ]
  },
  {
   "cell_type": "markdown",
   "id": "32b3f500-0840-4b0a-a78b-5a5e603b7d72",
   "metadata": {},
   "source": [
    "# Data Preprocessing"
   ]
  },
  {
   "cell_type": "code",
   "execution_count": null,
   "id": "3bb38d5c-6eab-457c-9514-01ec666c0f72",
   "metadata": {},
   "outputs": [],
   "source": [
    "new_column_name = {}  #dictionary to map old names with new names"
   ]
  }
 ],
 "metadata": {
  "kernelspec": {
   "display_name": "Python 3 (ipykernel)",
   "language": "python",
   "name": "python3"
  },
  "language_info": {
   "codemirror_mode": {
    "name": "ipython",
    "version": 3
   },
   "file_extension": ".py",
   "mimetype": "text/x-python",
   "name": "python",
   "nbconvert_exporter": "python",
   "pygments_lexer": "ipython3",
   "version": "3.10.8"
  }
 },
 "nbformat": 4,
 "nbformat_minor": 5
}
