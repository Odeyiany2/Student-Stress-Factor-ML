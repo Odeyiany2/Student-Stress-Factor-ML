{
 "cells": [
  {
   "cell_type": "markdown",
   "id": "0b51defe-f2c6-4c76-96de-3945e6ce9b15",
   "metadata": {},
   "source": [
    "# Importing the Necessary Libraries"
   ]
  },
  {
   "cell_type": "code",
   "execution_count": null,
   "id": "01cd7291-1ef8-435a-ae9e-794f757981fc",
   "metadata": {},
   "outputs": [],
   "source": [
    "import pandas as pd\n",
    "import seaborn as sns\n",
    "import matplotlib.pyplot as plt\n",
    "import numpy as np\n",
    "import plotly.express as px"
   ]
  },
  {
   "cell_type": "markdown",
   "id": "d9b4e36d-e293-488b-93cf-fc28502cca8e",
   "metadata": {},
   "source": [
    "# Data Exploration"
   ]
  },
  {
   "cell_type": "markdown",
   "id": "1ade1724-f915-405f-b21a-b06c6ef3ce8a",
   "metadata": {},
   "source": [
    "In this stage, we will be doing the basic data exploration which is to read the data file, get the shape, get the data information and other details about the dataset."
   ]
  },
  {
   "cell_type": "code",
   "execution_count": 3,
   "id": "da0a3e6d-3d3e-4195-ad19-2e6327f89991",
   "metadata": {},
   "outputs": [
    {
     "data": {
      "text/html": [
       "<div>\n",
       "<style scoped>\n",
       "    .dataframe tbody tr th:only-of-type {\n",
       "        vertical-align: middle;\n",
       "    }\n",
       "\n",
       "    .dataframe tbody tr th {\n",
       "        vertical-align: top;\n",
       "    }\n",
       "\n",
       "    .dataframe thead th {\n",
       "        text-align: right;\n",
       "    }\n",
       "</style>\n",
       "<table border=\"1\" class=\"dataframe\">\n",
       "  <thead>\n",
       "    <tr style=\"text-align: right;\">\n",
       "      <th></th>\n",
       "      <th>Timestamp</th>\n",
       "      <th>Kindly Rate your Sleep Quality 😴</th>\n",
       "      <th>How many times a week do you suffer headaches 🤕?</th>\n",
       "      <th>How would you rate you academic performance 👩‍🎓?</th>\n",
       "      <th>how would you rate your study load?</th>\n",
       "      <th>How many times a week you practice extracurricular activities 🎾?</th>\n",
       "      <th>How would you rate your stress levels?</th>\n",
       "    </tr>\n",
       "  </thead>\n",
       "  <tbody>\n",
       "    <tr>\n",
       "      <th>0</th>\n",
       "      <td>27/10/2023 21:54:15</td>\n",
       "      <td>3</td>\n",
       "      <td>1</td>\n",
       "      <td>3</td>\n",
       "      <td>4</td>\n",
       "      <td>2</td>\n",
       "      <td>3</td>\n",
       "    </tr>\n",
       "    <tr>\n",
       "      <th>1</th>\n",
       "      <td>28/10/2023 12:24:40</td>\n",
       "      <td>4</td>\n",
       "      <td>1</td>\n",
       "      <td>2</td>\n",
       "      <td>3</td>\n",
       "      <td>3</td>\n",
       "      <td>2</td>\n",
       "    </tr>\n",
       "    <tr>\n",
       "      <th>2</th>\n",
       "      <td>28/10/2023 12:24:51</td>\n",
       "      <td>2</td>\n",
       "      <td>1</td>\n",
       "      <td>2</td>\n",
       "      <td>1</td>\n",
       "      <td>4</td>\n",
       "      <td>4</td>\n",
       "    </tr>\n",
       "    <tr>\n",
       "      <th>3</th>\n",
       "      <td>28/10/2023 12:26:11</td>\n",
       "      <td>3</td>\n",
       "      <td>2</td>\n",
       "      <td>3</td>\n",
       "      <td>2</td>\n",
       "      <td>3</td>\n",
       "      <td>3</td>\n",
       "    </tr>\n",
       "    <tr>\n",
       "      <th>4</th>\n",
       "      <td>28/10/2023 12:26:45</td>\n",
       "      <td>2</td>\n",
       "      <td>3</td>\n",
       "      <td>1</td>\n",
       "      <td>5</td>\n",
       "      <td>5</td>\n",
       "      <td>3</td>\n",
       "    </tr>\n",
       "  </tbody>\n",
       "</table>\n",
       "</div>"
      ],
      "text/plain": [
       "             Timestamp  Kindly Rate your Sleep Quality 😴  \\\n",
       "0  27/10/2023 21:54:15                                 3   \n",
       "1  28/10/2023 12:24:40                                 4   \n",
       "2  28/10/2023 12:24:51                                 2   \n",
       "3  28/10/2023 12:26:11                                 3   \n",
       "4  28/10/2023 12:26:45                                 2   \n",
       "\n",
       "   How many times a week do you suffer headaches 🤕?  \\\n",
       "0                                                 1   \n",
       "1                                                 1   \n",
       "2                                                 1   \n",
       "3                                                 2   \n",
       "4                                                 3   \n",
       "\n",
       "   How would you rate you academic performance 👩‍🎓?  \\\n",
       "0                                                 3   \n",
       "1                                                 2   \n",
       "2                                                 2   \n",
       "3                                                 3   \n",
       "4                                                 1   \n",
       "\n",
       "   how would you rate your study load?  \\\n",
       "0                                    4   \n",
       "1                                    3   \n",
       "2                                    1   \n",
       "3                                    2   \n",
       "4                                    5   \n",
       "\n",
       "   How many times a week you practice extracurricular activities 🎾?  \\\n",
       "0                                                  2                  \n",
       "1                                                  3                  \n",
       "2                                                  4                  \n",
       "3                                                  3                  \n",
       "4                                                  5                  \n",
       "\n",
       "   How would you rate your stress levels?  \n",
       "0                                       3  \n",
       "1                                       2  \n",
       "2                                       4  \n",
       "3                                       3  \n",
       "4                                       3  "
      ]
     },
     "execution_count": 3,
     "metadata": {},
     "output_type": "execute_result"
    }
   ],
   "source": [
    "df = pd.read_csv(\"Student Stress Factors.csv\")\n",
    "df.head()"
   ]
  },
  {
   "cell_type": "code",
   "execution_count": 4,
   "id": "c0ba4f29-4d0d-40de-a43e-f939dd6e17b2",
   "metadata": {},
   "outputs": [
    {
     "data": {
      "text/plain": [
       "(53, 7)"
      ]
     },
     "execution_count": 4,
     "metadata": {},
     "output_type": "execute_result"
    }
   ],
   "source": [
    "df.shape"
   ]
  },
  {
   "cell_type": "code",
   "execution_count": 5,
   "id": "f0c5d4c1-f37a-478a-bf46-222a4f82b03a",
   "metadata": {},
   "outputs": [
    {
     "name": "stdout",
     "output_type": "stream",
     "text": [
      "<class 'pandas.core.frame.DataFrame'>\n",
      "RangeIndex: 53 entries, 0 to 52\n",
      "Data columns (total 7 columns):\n",
      " #   Column                                                            Non-Null Count  Dtype \n",
      "---  ------                                                            --------------  ----- \n",
      " 0   Timestamp                                                         53 non-null     object\n",
      " 1   Kindly Rate your Sleep Quality 😴                                  53 non-null     int64 \n",
      " 2   How many times a week do you suffer headaches 🤕?                  53 non-null     int64 \n",
      " 3   How would you rate you academic performance 👩‍🎓?                  53 non-null     int64 \n",
      " 4   how would you rate your study load?                               53 non-null     int64 \n",
      " 5   How many times a week you practice extracurricular activities 🎾?  53 non-null     int64 \n",
      " 6   How would you rate your stress levels?                            53 non-null     int64 \n",
      "dtypes: int64(6), object(1)\n",
      "memory usage: 3.0+ KB\n"
     ]
    }
   ],
   "source": [
    "df.info()"
   ]
  },
  {
   "cell_type": "code",
   "execution_count": 6,
   "id": "65a3f967-aefa-46eb-a137-58ba42df53f4",
   "metadata": {},
   "outputs": [
    {
     "data": {
      "text/plain": [
       "Index(['Timestamp', 'Kindly Rate your Sleep Quality 😴',\n",
       "       'How many times a week do you suffer headaches 🤕?',\n",
       "       'How would you rate you academic performance 👩‍🎓?',\n",
       "       'how would you rate your study load?',\n",
       "       'How many times a week you practice extracurricular activities 🎾?',\n",
       "       'How would you rate your stress levels?'],\n",
       "      dtype='object')"
      ]
     },
     "execution_count": 6,
     "metadata": {},
     "output_type": "execute_result"
    }
   ],
   "source": [
    "df.columns"
   ]
  },
  {
   "cell_type": "markdown",
   "id": "e05d2118-0a4b-4834-9c56-d352c4aa69b4",
   "metadata": {},
   "source": [
    "#### Explanation of each Column in the Dataset"
   ]
  },
  {
   "cell_type": "markdown",
   "id": "0517d6a7-d1d5-4101-b70d-f8f2a6fa6cd3",
   "metadata": {},
   "source": [
    "1. Kindly Rate your Sleep Quality: This column on a scale of 1-5 with **1 representing very bad and 5 representing Good**, it rates the students sleep quality.\r",
    "2. 'How many times a week do you suffer headache? This column on a scale of 1-5 with **1 representing more and 5 representing less**, takes count of the number of times the student suffers headaches.\n",
    "3. How would you rate you academic performance 👩‍🎓? This column rates the student academic performance on a scale of 1-5 with **1 being bad and 5 being Great.**\n",
    "4. how would you rate your study load? This column rates the student study load on the scale of 1-5 with **1 being heavy and 5 as light**\n",
    "5. How many times a week you practice extracurricular activities 🎾? This week measures a student weekly extracurricular activities with **1 being rarely and 5 being daily.**\n",
    "6. How would you rate your stress levels? This column measures the stress level of the student with **1 being very high and 5 being very low.** vels?"
   ]
  },
  {
   "cell_type": "markdown",
   "id": "32b3f500-0840-4b0a-a78b-5a5e603b7d72",
   "metadata": {},
   "source": [
    "# Data Preprocessing"
   ]
  },
  {
   "cell_type": "markdown",
   "id": "e0b75e30-a0b1-404c-a3ea-6b864d36d583",
   "metadata": {},
   "source": [
    "This stage consists of renaming the columns, removing unnecessary columns, taking care of missing values if any, performing feature engineering and ensuring uniform data formatting to prepare it for accurate model training and prediction."
   ]
  },
  {
   "cell_type": "code",
   "execution_count": 7,
   "id": "3bb38d5c-6eab-457c-9514-01ec666c0f72",
   "metadata": {},
   "outputs": [
    {
     "data": {
      "text/html": [
       "<div>\n",
       "<style scoped>\n",
       "    .dataframe tbody tr th:only-of-type {\n",
       "        vertical-align: middle;\n",
       "    }\n",
       "\n",
       "    .dataframe tbody tr th {\n",
       "        vertical-align: top;\n",
       "    }\n",
       "\n",
       "    .dataframe thead th {\n",
       "        text-align: right;\n",
       "    }\n",
       "</style>\n",
       "<table border=\"1\" class=\"dataframe\">\n",
       "  <thead>\n",
       "    <tr style=\"text-align: right;\">\n",
       "      <th></th>\n",
       "      <th>Timestamp</th>\n",
       "      <th>sleep quality</th>\n",
       "      <th>headaches_per_week</th>\n",
       "      <th>rate_of_academic_performance</th>\n",
       "      <th>rate_of_study_load</th>\n",
       "      <th>weekly_extracurricular_activities</th>\n",
       "      <th>rate_of_stress_levels</th>\n",
       "    </tr>\n",
       "  </thead>\n",
       "  <tbody>\n",
       "    <tr>\n",
       "      <th>0</th>\n",
       "      <td>27/10/2023 21:54:15</td>\n",
       "      <td>3</td>\n",
       "      <td>1</td>\n",
       "      <td>3</td>\n",
       "      <td>4</td>\n",
       "      <td>2</td>\n",
       "      <td>3</td>\n",
       "    </tr>\n",
       "    <tr>\n",
       "      <th>1</th>\n",
       "      <td>28/10/2023 12:24:40</td>\n",
       "      <td>4</td>\n",
       "      <td>1</td>\n",
       "      <td>2</td>\n",
       "      <td>3</td>\n",
       "      <td>3</td>\n",
       "      <td>2</td>\n",
       "    </tr>\n",
       "    <tr>\n",
       "      <th>2</th>\n",
       "      <td>28/10/2023 12:24:51</td>\n",
       "      <td>2</td>\n",
       "      <td>1</td>\n",
       "      <td>2</td>\n",
       "      <td>1</td>\n",
       "      <td>4</td>\n",
       "      <td>4</td>\n",
       "    </tr>\n",
       "    <tr>\n",
       "      <th>3</th>\n",
       "      <td>28/10/2023 12:26:11</td>\n",
       "      <td>3</td>\n",
       "      <td>2</td>\n",
       "      <td>3</td>\n",
       "      <td>2</td>\n",
       "      <td>3</td>\n",
       "      <td>3</td>\n",
       "    </tr>\n",
       "    <tr>\n",
       "      <th>4</th>\n",
       "      <td>28/10/2023 12:26:45</td>\n",
       "      <td>2</td>\n",
       "      <td>3</td>\n",
       "      <td>1</td>\n",
       "      <td>5</td>\n",
       "      <td>5</td>\n",
       "      <td>3</td>\n",
       "    </tr>\n",
       "  </tbody>\n",
       "</table>\n",
       "</div>"
      ],
      "text/plain": [
       "             Timestamp  sleep quality  headaches_per_week  \\\n",
       "0  27/10/2023 21:54:15              3                   1   \n",
       "1  28/10/2023 12:24:40              4                   1   \n",
       "2  28/10/2023 12:24:51              2                   1   \n",
       "3  28/10/2023 12:26:11              3                   2   \n",
       "4  28/10/2023 12:26:45              2                   3   \n",
       "\n",
       "   rate_of_academic_performance  rate_of_study_load  \\\n",
       "0                             3                   4   \n",
       "1                             2                   3   \n",
       "2                             2                   1   \n",
       "3                             3                   2   \n",
       "4                             1                   5   \n",
       "\n",
       "   weekly_extracurricular_activities  rate_of_stress_levels  \n",
       "0                                  2                      3  \n",
       "1                                  3                      2  \n",
       "2                                  4                      4  \n",
       "3                                  3                      3  \n",
       "4                                  5                      3  "
      ]
     },
     "execution_count": 7,
     "metadata": {},
     "output_type": "execute_result"
    }
   ],
   "source": [
    "new_column_name = {\n",
    "    \"Kindly Rate your Sleep Quality 😴\": \"sleep quality\",\n",
    "    \"How many times a week do you suffer headaches 🤕?\": \"headaches_per_week\",\n",
    "    \"How would you rate you academic performance 👩‍🎓?\": \"rate_of_academic_performance\",\n",
    "    \"how would you rate your study load?\": \"rate_of_study_load\",\n",
    "    \"How many times a week you practice extracurricular activities 🎾?\": \"weekly_extracurricular_activities\",\n",
    "    \"How would you rate your stress levels?\": \"rate_of_stress_levels\"\n",
    "    \n",
    "} #dictionary to map old names with new names\n",
    "\n",
    "# Rename columns using the dictionary\n",
    "df.rename(columns = new_column_name, inplace = True)\n",
    "\n",
    "# Print the DataFrame with updated column names\n",
    "df.head()"
   ]
  },
  {
   "cell_type": "code",
   "execution_count": 8,
   "id": "7148d037-997f-4ea5-86e9-42ee0c5580d7",
   "metadata": {},
   "outputs": [
    {
     "data": {
      "text/html": [
       "<div>\n",
       "<style scoped>\n",
       "    .dataframe tbody tr th:only-of-type {\n",
       "        vertical-align: middle;\n",
       "    }\n",
       "\n",
       "    .dataframe tbody tr th {\n",
       "        vertical-align: top;\n",
       "    }\n",
       "\n",
       "    .dataframe thead th {\n",
       "        text-align: right;\n",
       "    }\n",
       "</style>\n",
       "<table border=\"1\" class=\"dataframe\">\n",
       "  <thead>\n",
       "    <tr style=\"text-align: right;\">\n",
       "      <th></th>\n",
       "      <th>sleep quality</th>\n",
       "      <th>headaches_per_week</th>\n",
       "      <th>rate_of_academic_performance</th>\n",
       "      <th>rate_of_study_load</th>\n",
       "      <th>weekly_extracurricular_activities</th>\n",
       "      <th>rate_of_stress_levels</th>\n",
       "    </tr>\n",
       "  </thead>\n",
       "  <tbody>\n",
       "    <tr>\n",
       "      <th>0</th>\n",
       "      <td>3</td>\n",
       "      <td>1</td>\n",
       "      <td>3</td>\n",
       "      <td>4</td>\n",
       "      <td>2</td>\n",
       "      <td>3</td>\n",
       "    </tr>\n",
       "    <tr>\n",
       "      <th>1</th>\n",
       "      <td>4</td>\n",
       "      <td>1</td>\n",
       "      <td>2</td>\n",
       "      <td>3</td>\n",
       "      <td>3</td>\n",
       "      <td>2</td>\n",
       "    </tr>\n",
       "    <tr>\n",
       "      <th>2</th>\n",
       "      <td>2</td>\n",
       "      <td>1</td>\n",
       "      <td>2</td>\n",
       "      <td>1</td>\n",
       "      <td>4</td>\n",
       "      <td>4</td>\n",
       "    </tr>\n",
       "    <tr>\n",
       "      <th>3</th>\n",
       "      <td>3</td>\n",
       "      <td>2</td>\n",
       "      <td>3</td>\n",
       "      <td>2</td>\n",
       "      <td>3</td>\n",
       "      <td>3</td>\n",
       "    </tr>\n",
       "    <tr>\n",
       "      <th>4</th>\n",
       "      <td>2</td>\n",
       "      <td>3</td>\n",
       "      <td>1</td>\n",
       "      <td>5</td>\n",
       "      <td>5</td>\n",
       "      <td>3</td>\n",
       "    </tr>\n",
       "  </tbody>\n",
       "</table>\n",
       "</div>"
      ],
      "text/plain": [
       "   sleep quality  headaches_per_week  rate_of_academic_performance  \\\n",
       "0              3                   1                             3   \n",
       "1              4                   1                             2   \n",
       "2              2                   1                             2   \n",
       "3              3                   2                             3   \n",
       "4              2                   3                             1   \n",
       "\n",
       "   rate_of_study_load  weekly_extracurricular_activities  \\\n",
       "0                   4                                  2   \n",
       "1                   3                                  3   \n",
       "2                   1                                  4   \n",
       "3                   2                                  3   \n",
       "4                   5                                  5   \n",
       "\n",
       "   rate_of_stress_levels  \n",
       "0                      3  \n",
       "1                      2  \n",
       "2                      4  \n",
       "3                      3  \n",
       "4                      3  "
      ]
     },
     "execution_count": 8,
     "metadata": {},
     "output_type": "execute_result"
    }
   ],
   "source": [
    "#dropping unnecessary columns\n",
    "df.drop(columns = \"Timestamp\", inplace = True)\n",
    "\n",
    "#print df after dropping column\n",
    "df.head()"
   ]
  },
  {
   "cell_type": "markdown",
   "id": "3e9ed4bc-8c63-4c23-8023-3e061f91c7e1",
   "metadata": {},
   "source": [
    "# Data Visualization"
   ]
  },
  {
   "cell_type": "markdown",
   "id": "5796737c-0417-4bdb-ae93-82c991355e3f",
   "metadata": {},
   "source": [
    "In this stage, we perform data visualization with the necessary libraries to explore trends and patterns in the dataset. "
   ]
  },
  {
   "cell_type": "markdown",
   "id": "d94d73c2-6563-427f-8ab0-4e705ebc1ec5",
   "metadata": {},
   "source": [
    "#### Univariate Analysis"
   ]
  },
  {
   "cell_type": "code",
   "execution_count": 10,
   "id": "8b1c7ab4-0953-4670-8d67-89ca9dce8e37",
   "metadata": {},
   "outputs": [
    {
     "data": {
      "image/png": "[encoded data removed]",
      "text/plain": [
       "<Figure size 800x600 with 1 Axes>"
      ]
     },
     "metadata": {},
     "output_type": "display_data"
    }
   ],
   "source": [
    "plt.figure(figsize = (8,6))\n",
    "sns.countplot(df, x = \"rate_of_academic_performance\")\n",
    "plt.title(\"Distribution of Academic Performance\")\n",
    "plt.tight_layout()"
   ]
  },
  {
   "cell_type": "code",
   "execution_count": 14,
   "id": "caade578-25aa-41ac-9ab6-4a4d8ac252e6",
   "metadata": {},
   "outputs": [
    {
     "data": {
      "image/png": "[encoded data removed]",
      "text/plain": [
       "<Figure size 640x480 with 1 Axes>"
      ]
     },
     "metadata": {},
     "output_type": "display_data"
    }
   ],
   "source": [
    "dict_study = dict(df[\"rate_of_study_load\"].value_counts())\n",
    "palette = sns.color_palette(\"icefire\")\n",
    "plt.pie(dict_study.values(), labels = dict_study.keys(), autopct = \"%.0f%%\", colors=palette)\n",
    "plt.title(\"Distribution of Study Load\")\n",
    "plt.show()"
   ]
  },
  {
   "cell_type": "code",
   "execution_count": 18,
   "id": "8fa331cc-1e27-486c-95f0-8ec0ae9edc30",
   "metadata": {},
   "outputs": [
    {
     "data": {
      "image/png": "[encoded data removed]",
      "text/plain": [
       "<Figure size 800x600 with 1 Axes>"
      ]
     },
     "metadata": {},
     "output_type": "display_data"
    }
   ],
   "source": [
    "plt.figure(figsize = (8,6))\n",
    "sns.countplot(df, x=\"weekly_extracurricular_activities\")\n",
    "plt.title(\"Distribution of Weekly Extracurricular Activities\")\n",
    "plt.tight_layout();"
   ]
  },
  {
   "cell_type": "code",
   "execution_count": 29,
   "id": "4d22a86a-1b5c-4f8f-955e-0bcac3f2c517",
   "metadata": {},
   "outputs": [
    {
     "data": {
      "image/png": "[encoded data removed]",
      "text/plain": [
       "<Figure size 640x480 with 1 Axes>"
      ]
     },
     "metadata": {},
     "output_type": "display_data"
    }
   ],
   "source": [
    "sleep = dict(df[\"sleep quality\"].value_counts())\n",
    "slp = list(sleep.keys())\n",
    "cct = list(sleep.values())\n",
    "plt.bar(slp, cct, color ='maroon')\n",
    "plt.xlabel(\"Sleep\")\n",
    "plt.ylabel(\"Count\")\n",
    "plt.title(\"Distribution of Quality Sleep\")\n",
    "plt.show();"
   ]
  },
  {
   "cell_type": "code",
   "execution_count": null,
   "id": "5f3e2e94-b083-41e5-a143-3f75be61c411",
   "metadata": {},
   "outputs": [],
   "source": []
  }
 ],
 "metadata": {
  "kernelspec": {
   "display_name": "Python 3 (ipykernel)",
   "language": "python",
   "name": "python3"
  },
  "language_info": {
   "codemirror_mode": {
    "name": "ipython",
    "version": 3
   },
   "file_extension": ".py",
   "mimetype": "text/x-python",
   "name": "python",
   "nbconvert_exporter": "python",
   "pygments_lexer": "ipython3",
   "version": "3.10.8"
  }
 },
 "nbformat": 4,
 "nbformat_minor": 5
}
